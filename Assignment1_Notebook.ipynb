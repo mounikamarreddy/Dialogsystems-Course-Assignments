{
  "nbformat": 4,
  "nbformat_minor": 0,
  "metadata": {
    "colab": {
      "provenance": [],
      "authorship_tag": "ABX9TyOhEpkqqaaLfDwbQJ7jdD+L",
      "include_colab_link": true
    },
    "kernelspec": {
      "name": "python3",
      "display_name": "Python 3"
    },
    "language_info": {
      "name": "python"
    }
  },
  "cells": [
    {
      "cell_type": "markdown",
      "metadata": {
        "id": "view-in-github",
        "colab_type": "text"
      },
      "source": [
        "<a href=\"https://colab.research.google.com/github/mounikamarreddy/Dialogsystems-Course-Assignments/blob/main/Assignment1_Notebook.ipynb\" target=\"_parent\"><img src=\"https://colab.research.google.com/assets/colab-badge.svg\" alt=\"Open In Colab\"/></a>"
      ]
    },
    {
      "cell_type": "markdown",
      "source": [
        "This notebook is designed to simplify Assignment 1. Each section contains information regarding the assignment. Please fill in the code blocks to achieve the desired output."
      ],
      "metadata": {
        "id": "zyHY_H5NQDrw"
      }
    },
    {
      "cell_type": "code",
      "source": [
        "# Make sure to install the required libraries. If you are using Google Colab, follow the commands below as they are written.\n",
        "# If you are working on a local machine, use the same commands but remove the exclamation mark (!) from the beginning.\n",
        "!pip install praw"
      ],
      "metadata": {
        "colab": {
          "base_uri": "https://localhost:8080/"
        },
        "id": "aWeR6mcSRz11",
        "outputId": "7a2a58f6-534a-4e4a-b1fe-5effac1c8351"
      },
      "execution_count": null,
      "outputs": [
        {
          "output_type": "stream",
          "name": "stdout",
          "text": [
            "Collecting praw\n",
            "  Downloading praw-7.7.1-py3-none-any.whl (191 kB)\n",
            "\u001b[2K     \u001b[90m━━━━━━━━━━━━━━━━━━━━━━━━━━━━━━━━━━━━━━━━\u001b[0m \u001b[32m191.0/191.0 kB\u001b[0m \u001b[31m4.0 MB/s\u001b[0m eta \u001b[36m0:00:00\u001b[0m\n",
            "\u001b[?25hCollecting prawcore<3,>=2.1 (from praw)\n",
            "  Downloading prawcore-2.4.0-py3-none-any.whl (17 kB)\n",
            "Collecting update-checker>=0.18 (from praw)\n",
            "  Downloading update_checker-0.18.0-py3-none-any.whl (7.0 kB)\n",
            "Requirement already satisfied: websocket-client>=0.54.0 in /usr/local/lib/python3.10/dist-packages (from praw) (1.7.0)\n",
            "Requirement already satisfied: requests<3.0,>=2.6.0 in /usr/local/lib/python3.10/dist-packages (from prawcore<3,>=2.1->praw) (2.31.0)\n",
            "Requirement already satisfied: charset-normalizer<4,>=2 in /usr/local/lib/python3.10/dist-packages (from requests<3.0,>=2.6.0->prawcore<3,>=2.1->praw) (3.3.2)\n",
            "Requirement already satisfied: idna<4,>=2.5 in /usr/local/lib/python3.10/dist-packages (from requests<3.0,>=2.6.0->prawcore<3,>=2.1->praw) (3.7)\n",
            "Requirement already satisfied: urllib3<3,>=1.21.1 in /usr/local/lib/python3.10/dist-packages (from requests<3.0,>=2.6.0->prawcore<3,>=2.1->praw) (2.0.7)\n",
            "Requirement already satisfied: certifi>=2017.4.17 in /usr/local/lib/python3.10/dist-packages (from requests<3.0,>=2.6.0->prawcore<3,>=2.1->praw) (2024.2.2)\n",
            "Installing collected packages: update-checker, prawcore, praw\n",
            "Successfully installed praw-7.7.1 prawcore-2.4.0 update-checker-0.18.0\n"
          ]
        }
      ]
    },
    {
      "cell_type": "code",
      "source": [
        "# Import the required libraries\n",
        "import pandas as pd\n",
        "import numpy as np\n",
        "import json\n",
        "import praw\n",
        "import pickle\n",
        "from datetime import datetime\n",
        "import os\n",
        "date_format = '%a, %d %b %Y %H:%M:%S %z'"
      ],
      "metadata": {
        "id": "oNwqX4rvQbXT"
      },
      "execution_count": null,
      "outputs": []
    },
    {
      "cell_type": "markdown",
      "source": [
        "Download the \"subreddit_links.zip\" folder fromt he github link: https://github.com/mounikamarreddy/Dialogsystems-Course-Assignments/tree/main/Assignment1.\n",
        "Read your data folder here. The explanation related to the data and assignment 1 is provided in the file \"Assignment 1\". Here you can select one subreddit or all the subreddits based on your interest."
      ],
      "metadata": {
        "id": "jocQeyNFTop-"
      }
    },
    {
      "cell_type": "code",
      "source": [
        "#getting the data from github\n",
        "!git clone https://github.com/mounikamarreddy/Dialogsystems-Course-Assignments.git"
      ],
      "metadata": {
        "colab": {
          "base_uri": "https://localhost:8080/"
        },
        "id": "RcUav-v7Txfk",
        "outputId": "a9bf3d0d-25d2-49fb-bde3-0d75625a44ed"
      },
      "execution_count": null,
      "outputs": [
        {
          "output_type": "stream",
          "name": "stdout",
          "text": [
            "fatal: destination path 'Dialogsystems-Course-Assignments' already exists and is not an empty directory.\n"
          ]
        }
      ]
    },
    {
      "cell_type": "code",
      "source": [
        "cd Dialogsystems-Course-Assignments"
      ],
      "metadata": {
        "colab": {
          "base_uri": "https://localhost:8080/"
        },
        "id": "TtHzLl_micfh",
        "outputId": "cfbeb537-b1d0-420e-9466-688bd885b8ba"
      },
      "execution_count": null,
      "outputs": [
        {
          "output_type": "stream",
          "name": "stdout",
          "text": [
            "/content/Dialogsystems-Course-Assignments\n"
          ]
        }
      ]
    },
    {
      "cell_type": "code",
      "source": [
        "!ls"
      ],
      "metadata": {
        "colab": {
          "base_uri": "https://localhost:8080/"
        },
        "id": "lTYSzd6Vl0an",
        "outputId": "e2749671-3b84-4789-fd56-453de9efcbd7"
      },
      "execution_count": null,
      "outputs": [
        {
          "output_type": "stream",
          "name": "stdout",
          "text": [
            "Assignment1  README.md\n"
          ]
        }
      ]
    },
    {
      "cell_type": "code",
      "source": [
        "cd Assignment1"
      ],
      "metadata": {
        "colab": {
          "base_uri": "https://localhost:8080/"
        },
        "id": "373kxlZimUeo",
        "outputId": "8cb65371-a570-422c-83cb-2c953302317d"
      },
      "execution_count": null,
      "outputs": [
        {
          "output_type": "stream",
          "name": "stdout",
          "text": [
            "/content/Dialogsystems-Course-Assignments/Assignment1\n"
          ]
        }
      ]
    },
    {
      "cell_type": "code",
      "source": [
        "!ls"
      ],
      "metadata": {
        "colab": {
          "base_uri": "https://localhost:8080/"
        },
        "id": "eQxNybAGmYI8",
        "outputId": "06e89212-19aa-4c58-9c17-d83adc7cc353"
      },
      "execution_count": null,
      "outputs": [
        {
          "output_type": "stream",
          "name": "stdout",
          "text": [
            "Assignment1-DialogSystems.docx\tReadme.MD  subreddit_links.zip\n"
          ]
        }
      ]
    },
    {
      "cell_type": "markdown",
      "source": [
        "## Now here you can find the three different files. Assignment1-DialogSystems.docx contains the explanation of data and assignment, subreddit_links.zip is the data zip, and Assignment1-Notebook is the one that you are working on."
      ],
      "metadata": {
        "id": "yYN100nPmdIC"
      }
    },
    {
      "cell_type": "code",
      "source": [
        "!unzip subreddit_links.zip"
      ],
      "metadata": {
        "colab": {
          "base_uri": "https://localhost:8080/"
        },
        "id": "lbl013oWmZMz",
        "outputId": "27432e50-e9cc-4446-f46b-649eefa90690"
      },
      "execution_count": null,
      "outputs": [
        {
          "output_type": "stream",
          "name": "stdout",
          "text": [
            "Archive:  subreddit_links.zip\n",
            "   creating: subreddit_links/\n",
            "  inflating: subreddit_links/animalwelfare.csv  \n",
            "  inflating: subreddit_links/VeganActivism.csv  \n",
            "  inflating: subreddit_links/masculism.csv  \n",
            "  inflating: subreddit_links/AnimalRights.csv  \n",
            "  inflating: subreddit_links/Vegetarianism.csv  \n",
            "  inflating: subreddit_links/progun.csv  \n",
            "  inflating: subreddit_links/nuclear.csv  \n",
            "  inflating: subreddit_links/DebateCommunism.csv  \n",
            "  inflating: subreddit_links/GunsAreCool.csv  \n",
            "  inflating: subreddit_links/feminisms.csv  \n",
            "  inflating: subreddit_links/guncontrol.csv  \n",
            "  inflating: subreddit_links/Egalitarianism.csv  \n",
            "  inflating: subreddit_links/Abortiondebate.csv  \n",
            "  inflating: subreddit_links/prochoice.csv  \n",
            "  inflating: subreddit_links/brealism.csv  \n",
            "  inflating: subreddit_links/NuclearPower.csv  \n",
            "  inflating: subreddit_links/climateskeptics.csv  \n",
            "  inflating: subreddit_links/AntiVegan.csv  \n",
            "  inflating: subreddit_links/DebateFeminism.csv  \n",
            "  inflating: subreddit_links/Veganism.csv  \n",
            "  inflating: subreddit_links/climatechange.csv  \n",
            "  inflating: subreddit_links/CapitalismVSocialism.csv  \n",
            "  inflating: subreddit_links/gunpolitics.csv  \n",
            "  inflating: subreddit_links/climate.csv  \n"
          ]
        }
      ]
    },
    {
      "cell_type": "code",
      "source": [
        "# you can select the subreddit of your choice or can select all the subreddits and read your data using praw library and convert it to a dataframe\n",
        "# example link from the data file: /r/Abortiondebate/comments/bw3mpv/what_would_you_call_a_prochoice_person_who_is_pro/\n",
        "# But dont forgot to add \"reddit.com\" to the start using regex. The final link should be like this: reddit.com/r/Abortiondebate/comments/bw3mpv/what_would_you_call_a_prochoice_person_who_is_pro/\n",
        "data = pd.read_csv()"
      ],
      "metadata": {
        "id": "jrBsUSbMm-iL"
      },
      "execution_count": null,
      "outputs": []
    },
    {
      "cell_type": "code",
      "source": [
        "# print all the columns of your dataframe here"
      ],
      "metadata": {
        "id": "My3KqjpBnqfk"
      },
      "execution_count": null,
      "outputs": []
    },
    {
      "cell_type": "code",
      "source": [
        "# remove the unnecessary columns. Here I listed the unecessary columns and one can remove them\n",
        "can_remove_columns = [\"all_awardings\", \"author_flair_background_color\", \"author_flair_css_class\", \"author_flair_richtext\", \"author_flair_template_id\",\n",
        "                      \"author_flair_text\", \"author_flair_text_color\", \"author_flair_type\", \"author_patreon_flair\",\n",
        "                      \"can_gild\", \"distinguished\", \"gilded\", \"gildings\",\n",
        "                      \"can_mod_post\", \"collapsed\", \"collapsed_reason\", \"locked\", \"no_follow\", \"quarantined\", \"steward_reports\", \"stickied\", \"total_awards_received\", \"associated_award\",\n",
        "                      \"collapsed_because_crowd_control\"]\n"
      ],
      "metadata": {
        "id": "_kwwgbTinyfB"
      },
      "execution_count": null,
      "outputs": []
    },
    {
      "cell_type": "markdown",
      "source": [
        "## Now you will gave the data with required columns.\n",
        "## The structure of each conversation is as follows:\n",
        "- Submission Title: The initial post\n",
        "- Submission Content: Body of the initial post\n",
        "- Direct replies to the submission\n",
        "- Nested replies to the submission\n",
        "\n"
      ],
      "metadata": {
        "id": "Wy5J3feesSyn"
      }
    },
    {
      "cell_type": "markdown",
      "source": [
        "# Present the statistics for conversations categorized as only text-based content or containing images and videos."
      ],
      "metadata": {
        "id": "rALT24pptJw1"
      }
    },
    {
      "cell_type": "code",
      "source": [],
      "metadata": {
        "id": "4WpFDHJptLzq"
      },
      "execution_count": null,
      "outputs": []
    },
    {
      "cell_type": "code",
      "source": [],
      "metadata": {
        "id": "7j-FeT-CtMms"
      },
      "execution_count": null,
      "outputs": []
    },
    {
      "cell_type": "code",
      "source": [],
      "metadata": {
        "id": "s31iABEhtMqN"
      },
      "execution_count": null,
      "outputs": []
    },
    {
      "cell_type": "markdown",
      "source": [
        "Determine the mean and standard deviation regarding the number of posts."
      ],
      "metadata": {
        "id": "iqH9rf8-tNCg"
      }
    },
    {
      "cell_type": "code",
      "source": [],
      "metadata": {
        "id": "4OvEhVtItQKv"
      },
      "execution_count": null,
      "outputs": []
    },
    {
      "cell_type": "code",
      "source": [],
      "metadata": {
        "id": "exRK8fihtQ5K"
      },
      "execution_count": null,
      "outputs": []
    },
    {
      "cell_type": "code",
      "source": [],
      "metadata": {
        "id": "zEibo1MhtQ8z"
      },
      "execution_count": null,
      "outputs": []
    },
    {
      "cell_type": "markdown",
      "source": [
        "Identify the number of unique users within each conversation.\n"
      ],
      "metadata": {
        "id": "91xzwRnVtRPx"
      }
    },
    {
      "cell_type": "code",
      "source": [],
      "metadata": {
        "id": "0P-5fnI5tWxa"
      },
      "execution_count": null,
      "outputs": []
    },
    {
      "cell_type": "code",
      "source": [],
      "metadata": {
        "id": "RBIxkfiZtXTP"
      },
      "execution_count": null,
      "outputs": []
    },
    {
      "cell_type": "code",
      "source": [],
      "metadata": {
        "id": "W5wzaFnBtXkv"
      },
      "execution_count": null,
      "outputs": []
    },
    {
      "cell_type": "markdown",
      "source": [
        "Display the percentage of posts contributed by the top 2 users in each conversation, and calculate the average percentage of posts across all conversations.\n"
      ],
      "metadata": {
        "id": "dArTFCMotX0w"
      }
    },
    {
      "cell_type": "code",
      "source": [],
      "metadata": {
        "id": "Eu3XLH6ctb66"
      },
      "execution_count": null,
      "outputs": []
    },
    {
      "cell_type": "code",
      "source": [],
      "metadata": {
        "id": "seLvUsr8tckB"
      },
      "execution_count": null,
      "outputs": []
    },
    {
      "cell_type": "code",
      "source": [],
      "metadata": {
        "id": "iyO4q2Nttcnj"
      },
      "execution_count": null,
      "outputs": []
    },
    {
      "cell_type": "markdown",
      "source": [
        "Calculate the average number of tokens across posts, the average number of posts per submission, and the average number of tokens combining submissions and posts within a conversation.\n"
      ],
      "metadata": {
        "id": "nowACEnztc2n"
      }
    },
    {
      "cell_type": "code",
      "source": [],
      "metadata": {
        "id": "njNh9OY5tfCR"
      },
      "execution_count": null,
      "outputs": []
    },
    {
      "cell_type": "code",
      "source": [],
      "metadata": {
        "id": "_eAJrPYetf0M"
      },
      "execution_count": null,
      "outputs": []
    },
    {
      "cell_type": "code",
      "source": [],
      "metadata": {
        "id": "FVwejDQqtf3q"
      },
      "execution_count": null,
      "outputs": []
    }
  ]
}